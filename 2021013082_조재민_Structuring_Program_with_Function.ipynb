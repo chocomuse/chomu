{
  "nbformat": 4,
  "nbformat_minor": 0,
  "metadata": {
    "colab": {
      "provenance": [],
      "toc_visible": true,
      "authorship_tag": "ABX9TyOfggbL71TEgCu5S/coLfnU",
      "include_colab_link": true
    },
    "kernelspec": {
      "name": "python3",
      "display_name": "Python 3"
    },
    "language_info": {
      "name": "python"
    }
  },
  "cells": [
    {
      "cell_type": "markdown",
      "metadata": {
        "id": "view-in-github",
        "colab_type": "text"
      },
      "source": [
        "<a href=\"https://colab.research.google.com/github/chocomuse/chomu/blob/master/2021013082_%EC%A1%B0%EC%9E%AC%EB%AF%BC_Structuring_Program_with_Function.ipynb\" target=\"_parent\"><img src=\"https://colab.research.google.com/assets/colab-badge.svg\" alt=\"Open In Colab\"/></a>"
      ]
    },
    {
      "cell_type": "code",
      "execution_count": 25,
      "metadata": {
        "colab": {
          "base_uri": "https://localhost:8080/"
        },
        "id": "10sonmkd8zgw",
        "outputId": "9f7cca85-a86e-4528-f95a-77d88903a219"
      },
      "outputs": [
        {
          "output_type": "stream",
          "name": "stdout",
          "text": [
            "2\n",
            "4\n",
            "6\n",
            "8\n",
            "10\n"
          ]
        }
      ],
      "source": [
        "def print_even_numbers (numbers):\n",
        "  for number in numbers :\n",
        "    if number % 2 == 0:  # 각숫자가 2로 나눈 나머지가 0인지 판별 후 숫자가 짝수인 경우 pirnt(number)을 실행\n",
        "      print(number)  #해당짝수 출력\n",
        "\n",
        "list = [1,2, 3, 4, 5, 6, 7, 8, 9, 10]\n",
        "print_even_numbers(list)"
      ]
    },
    {
      "cell_type": "code",
      "source": [
        "def calculate_area (base, height):\n",
        "  area = (base * height) / 2  #삼각형의 면적을 계산 후 area에 저장\n",
        "  return area  # 계산된 면적을 반환\n",
        "\n",
        "base = int(input(\"삼각형 밑변의 길이를 입력하세요: \")) #삼각형의 밑변을 입력\n",
        "height = int(input(\"삼각형의 높이를 입력하세요: \"))  #삼각형의 높이를 입력\n",
        "triangle_area = calculate_area(base, height) #calculate_area를 사용하여 면적 계산\n",
        "\n",
        "\n",
        "print(\"삼각형의 면적은:\", triangle_area) #계산된 삼격형의 면적을 출력\n"
      ],
      "metadata": {
        "colab": {
          "base_uri": "https://localhost:8080/"
        },
        "id": "2aqigY7m_gFM",
        "outputId": "7d13499e-7502-4b7f-bb67-c9241134fa8f"
      },
      "execution_count": 26,
      "outputs": [
        {
          "output_type": "stream",
          "name": "stdout",
          "text": [
            "삼각형 밑변의 길이를 입력하세요: 10\n",
            "삼각형의 높이를 입력하세요: 5\n",
            "삼각형의 면적은: 25.0\n"
          ]
        }
      ]
    },
    {
      "cell_type": "code",
      "source": [
        "def convert_to_celsius(x):\n",
        "    celsius = (x - 32) * 5/9  #화씨를 섭씨로 변환하는 공식 사용\n",
        "    return celsius  #계산된 섭씨 온도를 반환\n",
        "\n",
        "x_temperature = float(input(\"화씨 온도를 입력하세요: \")) #화씨 온도를 입력\n",
        "celsius = convert_to_celsius(x_temperature)  #convert_to_celsius를 사용하여 화씨를 섭씨로 변환\n",
        "print(\"해당 화씨의 섭씨 온도는\", celsius, \"°C 입니다\")  #변환된 섭씨값 출력"
      ],
      "metadata": {
        "colab": {
          "base_uri": "https://localhost:8080/"
        },
        "id": "9x2EGYes2nIj",
        "outputId": "9a42e5b1-67ce-4008-d27d-36d6e2e96ef4"
      },
      "execution_count": 24,
      "outputs": [
        {
          "output_type": "stream",
          "name": "stdout",
          "text": [
            "화씨 온도를 입력하세요: 100\n",
            "해당 화씨의 섭씨 온도는 37.77777777777778 °C 입니다\n"
          ]
        }
      ]
    }
  ]
}
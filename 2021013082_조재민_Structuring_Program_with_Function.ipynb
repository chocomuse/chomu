{
  "nbformat": 4,
  "nbformat_minor": 0,
  "metadata": {
    "colab": {
      "provenance": [],
      "toc_visible": true,
      "authorship_tag": "ABX9TyMtmu1o7G4YfpNPXAiEx9iI",
      "include_colab_link": true
    },
    "kernelspec": {
      "name": "python3",
      "display_name": "Python 3"
    },
    "language_info": {
      "name": "python"
    }
  },
  "cells": [
    {
      "cell_type": "markdown",
      "metadata": {
        "id": "view-in-github",
        "colab_type": "text"
      },
      "source": [
        "<a href=\"https://colab.research.google.com/github/chocomuse/chomu/blob/master/2021013082_%EC%A1%B0%EC%9E%AC%EB%AF%BC_Structuring_Program_with_Function.ipynb\" target=\"_parent\"><img src=\"https://colab.research.google.com/assets/colab-badge.svg\" alt=\"Open In Colab\"/></a>"
      ]
    },
    {
      "cell_type": "code",
      "execution_count": null,
      "metadata": {
        "colab": {
          "base_uri": "https://localhost:8080/"
        },
        "id": "10sonmkd8zgw",
        "outputId": "6042a3e8-9370-4212-8f75-f5e801ddaa8d"
      },
      "outputs": [
        {
          "output_type": "stream",
          "name": "stdout",
          "text": [
            "2\n",
            "4\n",
            "6\n",
            "8\n",
            "10\n"
          ]
        }
      ],
      "source": [
        "def print_even_numbers (numbers):\n",
        "  for number in numbers :\n",
        "    if number % 2 == 0:  # 각숫자가 2로 나눈 나머지가 0인지 판별 후 숫자가 짝수인 경우 pirnt(number)을 실행\n",
        "      print(number)  #해당짝수 출력\n",
        "\n",
        "list = [1,2, 3, 4, 5, 6, 7, 8, 9, 10]\n",
        "print_even_numbers(list)"
      ]
    },
    {
      "cell_type": "code",
      "source": [
        "def calculate_area (base, height):\n",
        "  area = (base * height) / 2  #삼각형의 면적을 계산 후 area에 저장\n",
        "  return area  # 계산된 면적을 반환\n",
        "\n",
        "base_length = int(input(\"삼각형 밑변의 길이를 입력하세요: \")) #삼각형의 밑변을 입력\n",
        "height = int(input(\"삼각형의 높이를 입력하세요: \"))  #삼각형의 높이를 입력\n",
        "triangle_area = calculate_area(base_length, height) #calculate_area를 사용하여 면적 계산\n",
        "\n",
        "\n",
        "print(\"삼각형의 면적은:\", triangle_area) #계산된 삼격형의 면적을 출력\n"
      ],
      "metadata": {
        "colab": {
          "base_uri": "https://localhost:8080/"
        },
        "id": "2aqigY7m_gFM",
        "outputId": "a33c2bee-591a-48aa-bce3-0c03febc1a7f"
      },
      "execution_count": 1,
      "outputs": [
        {
          "output_type": "stream",
          "name": "stdout",
          "text": [
            "삼각형 밑변의 길이를 입력하세요: 100\n",
            "삼각형의 높이를 입력하세요: 205\n",
            "삼각형의 면적은: 10250.0\n"
          ]
        }
      ]
    },
    {
      "cell_type": "code",
      "source": [
        "def convert_to_celsius (x):  #화씨를 섭씨로 변환하는 함수정의\n",
        "  celsius = (x - 32) * 5/9    #화씨를 섭씨로 변경하는 공식사용\n",
        "  return celsius\n",
        "\n",
        "x_temperature = int(input(\"화씨 온도를 입력하세요: \"))   #화씨 온도를 입력\n",
        "clesius_temperature = convert_to_celsius(x_temperature)  #화씨를 섭씨로 변경\n",
        "print(f\"{x_temperature}°화씨는 {clesius_temperature}°섭씨입니다.\")  #결과값 출력\n"
      ],
      "metadata": {
        "colab": {
          "base_uri": "https://localhost:8080/"
        },
        "id": "u7IH2pW6Pq5D",
        "outputId": "80459013-9b28-403c-a1d3-769867ddf9c4"
      },
      "execution_count": 7,
      "outputs": [
        {
          "output_type": "stream",
          "name": "stdout",
          "text": [
            "화씨 온도를 입력하세요: 100\n",
            "100°화씨는 37.77777777777778°섭씨입니다.\n"
          ]
        }
      ]
    },
    {
      "cell_type": "code",
      "source": [],
      "metadata": {
        "id": "LtNxaZNMRJ9F"
      },
      "execution_count": null,
      "outputs": []
    }
  ]
}